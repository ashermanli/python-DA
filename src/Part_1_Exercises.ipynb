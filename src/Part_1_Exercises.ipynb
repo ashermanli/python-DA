{
 "cells": [
  {
   "cell_type": "markdown",
   "metadata": {},
   "source": [
    "# Exercise 1.1"
   ]
  },
  {
   "cell_type": "raw",
   "metadata": {},
   "source": [
    "print('Hello, World')"
   ]
  },
  {
   "cell_type": "markdown",
   "metadata": {},
   "source": [
    "# Exercise 1.2"
   ]
  },
  {
   "cell_type": "code",
   "execution_count": 2,
   "metadata": {},
   "outputs": [
    {
     "name": "stdout",
     "output_type": "stream",
     "text": [
      "what country are you from?usa\n",
      "usa  is a beautiful country\n"
     ]
    }
   ],
   "source": [
    "country = input('what country are you from?')\n",
    "print(country, ' is a beautiful country')"
   ]
  },
  {
   "cell_type": "markdown",
   "metadata": {},
   "source": [
    "# Exercise 1.3"
   ]
  },
  {
   "cell_type": "code",
   "execution_count": 3,
   "metadata": {
    "scrolled": true
   },
   "outputs": [
    {
     "name": "stdout",
     "output_type": "stream",
     "text": [
      "4 multiplied by  0 is  0\n",
      "4 multiplied by  1 is  4\n",
      "4 multiplied by  2 is  8\n",
      "4 multiplied by  3 is  12\n",
      "4 multiplied by  4 is  16\n",
      "4 multiplied by  5 is  20\n",
      "4 multiplied by  6 is  24\n",
      "4 multiplied by  7 is  28\n",
      "4 multiplied by  8 is  32\n",
      "4 multiplied by  9 is  36\n",
      "4 multiplied by  10 is  40\n"
     ]
    }
   ],
   "source": [
    "for i in range(11):\n",
    "    print('4 multiplied by ', i, 'is ', i*4)"
   ]
  },
  {
   "cell_type": "markdown",
   "metadata": {},
   "source": [
    "# Exercise 1.4"
   ]
  },
  {
   "cell_type": "code",
   "execution_count": 25,
   "metadata": {},
   "outputs": [
    {
     "name": "stdout",
     "output_type": "stream",
     "text": [
      "  1   2   3   4   5   6   7   8   9  10 \n",
      "  2   4   6   8  10  12  14  16  18  20 \n",
      "  3   6   9  12  15  18  21  24  27  30 \n",
      "  4   8  12  16  20  24  28  32  36  40 \n",
      "  5  10  15  20  25  30  35  40  45  50 \n",
      "  6  12  18  24  30  36  42  48  54  60 \n",
      "  7  14  21  28  35  42  49  56  63  70 \n",
      "  8  16  24  32  40  48  56  64  72  80 \n",
      "  9  18  27  36  45  54  63  72  81  90 \n",
      " 10  20  30  40  50  60  70  80  90 100 \n"
     ]
    }
   ],
   "source": [
    "for i in range(1,11):\n",
    "    for j in range(1,11):\n",
    "        print('%3d' % (i*j), end=\" \")\n",
    "    print(\"\")\n"
   ]
  },
  {
   "cell_type": "markdown",
   "metadata": {},
   "source": [
    "# Exercise 1.5"
   ]
  },
  {
   "cell_type": "code",
   "execution_count": 28,
   "metadata": {},
   "outputs": [
    {
     "name": "stdout",
     "output_type": "stream",
     "text": [
      "1  and  4 equals 5\n",
      "2  and  3 equals 5\n",
      "3  and  2 equals 5\n",
      "4  and  1 equals 5\n"
     ]
    }
   ],
   "source": [
    "for i in range(1,6):\n",
    "    for j in range(1,6):\n",
    "        if i+j==5:\n",
    "            print(i , ' and ', j, 'equals 5')\n",
    "        else:\n",
    "            continue"
   ]
  },
  {
   "cell_type": "markdown",
   "metadata": {},
   "source": [
    "def f():\n",
    "    b = 2\n",
    "    def g():\n",
    "        nonlocal b\n",
    "        b =3\n",
    "        print(b)\n",
    "    g()\n",
    "    print(b)\n",
    "f()"
   ]
  },
  {
   "cell_type": "markdown",
   "metadata": {},
   "source": [
    "# Exercise 1.6"
   ]
  },
  {
   "cell_type": "code",
   "execution_count": 33,
   "metadata": {},
   "outputs": [
    {
     "name": "stdout",
     "output_type": "stream",
     "text": [
      "triple( 0 ) ==  0 square( 0 ) ==  0\n",
      "triple( 1 ) ==  3 square( 1 ) ==  1\n",
      "triple( 2 ) ==  6 square( 2 ) ==  4\n",
      "triple( 3 ) ==  9 square( 3 ) ==  9\n"
     ]
    }
   ],
   "source": [
    "def triple(x):\n",
    "    return x*3\n",
    "def square(y):\n",
    "    return y**2\n",
    "\n",
    "for i in range(11):\n",
    "    x = triple(i)\n",
    "    y = square(i)\n",
    "    \n",
    "    if y>x:\n",
    "        break\n",
    "    else:\n",
    "        print('triple(', i, ') == ',x, end=\" \")\n",
    "        print('square(', i, ') == ', y)\n",
    "    \n",
    "    "
   ]
  },
  {
   "cell_type": "markdown",
   "metadata": {},
   "source": [
    "# Exercise 1.7"
   ]
  },
  {
   "cell_type": "code",
   "execution_count": 49,
   "metadata": {},
   "outputs": [
    {
     "name": "stdout",
     "output_type": "stream",
     "text": [
      "choose a shape: Triangle, Rectangle, Circlerectangle\n",
      "give base of rectangle4\n",
      "give height of rectangle5\n",
      "the area is 20.00\n"
     ]
    }
   ],
   "source": [
    "def areas():\n",
    "    area = 0\n",
    "    shape = input('choose a shape: Triangle, Rectangle, Circle').casefold()\n",
    "    if shape == 'triangle':\n",
    "        base = float(input('give base of triangle'))\n",
    "        height = int(input('give height of triangle'))\n",
    "        area = (base*height)/2\n",
    "    elif shape == 'rectangle':\n",
    "        base = float(input('give base of rectangle'))\n",
    "        height = int(input('give height of rectangle'))\n",
    "        area = base*height\n",
    "    elif shape == 'circle':\n",
    "        radius = float(input('give radius of the circle'))\n",
    "        area = 3.14 * radius**2\n",
    "    else:\n",
    "        print('cant recognize that shape')\n",
    "    if area == 0: return\n",
    "    else:\n",
    "        print(f'the area is {area:.2f}')\n",
    "        \n",
    "areas()\n",
    "        "
   ]
  },
  {
   "cell_type": "markdown",
   "metadata": {},
   "source": [
    "# Exercise 1.8"
   ]
  },
  {
   "cell_type": "code",
   "execution_count": 8,
   "metadata": {},
   "outputs": [
    {
     "name": "stdout",
     "output_type": "stream",
     "text": [
      "first coefficient1\n",
      "second coefficient2\n",
      "third coefficient1\n",
      "(-2.0, -2.0)\n"
     ]
    }
   ],
   "source": [
    "import math\n",
    "def solveQuadratic(a, b, c):\n",
    "    posx = float((b*-1) + math.sqrt((b**2 -(4*a*c)))/(2*a))\n",
    "    negx = float((b*-1) - math.sqrt((b**2 -(4*a*c)))/(2*a))\n",
    "    \n",
    "    return (posx, negx)\n",
    "\n",
    "a = float(input('first coefficient'))\n",
    "b = float(input('second coefficient'))\n",
    "c = float(input('third coefficient'))\n",
    "\n",
    "print(solveQuadratic(a,b,c))"
   ]
  },
  {
   "cell_type": "markdown",
   "metadata": {},
   "source": [
    "# Exercise 1.9"
   ]
  },
  {
   "cell_type": "code",
   "execution_count": 13,
   "metadata": {},
   "outputs": [
    {
     "name": "stdout",
     "output_type": "stream",
     "text": [
      "[0, 1, 2, 3, 4, 5, 5, 6, 6, 7, 78]\n",
      "[3, 3, 3, 3, 3, 4, 4, 5, 7, 26, 66]\n",
      "[0, 1, 2, 3, 3, 3, 3, 3, 3, 4, 4, 4, 5, 5, 5, 6, 6, 7, 7, 26, 66, 78]\n"
     ]
    }
   ],
   "source": [
    "def merge(l1, l2):\n",
    "    l3 = []\n",
    "    #assuming the lists are the same size\n",
    "    \n",
    "    i = 0\n",
    "    j = 0\n",
    "    print(l1)\n",
    "    print(l2)\n",
    "    while(i  < len(l1) and j < len(l2)):\n",
    "        if(l1[i] <= l2[j]):\n",
    "            l3.append(l1[i])\n",
    "            i +=1\n",
    "        elif(l1[i] > l2[j]):\n",
    "            l3.append(l2[j])\n",
    "            j+=1\n",
    "\n",
    "\n",
    "    while(i < len(l1)):\n",
    "        l3.append(l1[i])\n",
    "        i+=1\n",
    "    while(j < len(l2)):\n",
    "        l3.append(l2[j])\n",
    "        j+=1\n",
    "            \n",
    "        \n",
    "        \n",
    "    \n",
    "    return l3\n",
    "\n",
    "testl1=[1,5,3,2,6,7,4,6,78,5,0]\n",
    "testl2=[3,4,5,3,26,7,4,3,66,3,3]\n",
    "\n",
    "print(merge(sorted(testl1),sorted(testl2)))"
   ]
  },
  {
   "cell_type": "markdown",
   "metadata": {},
   "source": [
    "# Exercise 1.10"
   ]
  },
  {
   "cell_type": "code",
   "execution_count": 5,
   "metadata": {
    "scrolled": true
   },
   "outputs": [
    {
     "name": "stdout",
     "output_type": "stream",
     "text": [
      "[2, 4, 5, 6, 7, 8, 10, 12, 13]\n",
      "None\n"
     ]
    }
   ],
   "source": [
    "def detectRanges(l1):\n",
    "    sortd = sorted(l1)\n",
    "    result = []\n",
    "    print(sortd)\n",
    "    \n",
    "  \n",
    "\n",
    "\n",
    "l1=[2,5,4,8,12,6,7,10,13]\n",
    "\n",
    "print(detectRanges(l1))\n",
    "        "
   ]
  },
  {
   "cell_type": "markdown",
   "metadata": {},
   "source": [
    "# Exercise 1.11"
   ]
  },
  {
   "cell_type": "code",
   "execution_count": 10,
   "metadata": {},
   "outputs": [
    {
     "name": "stdout",
     "output_type": "stream",
     "text": [
      "[(1, 10, 'a'), (2, 20, 'b'), (3, 30, 'c')]\n"
     ]
    },
    {
     "data": {
      "text/plain": [
       "[1, 10, 'a', 2, 20, 'b', 3, 30, 'c']"
      ]
     },
     "execution_count": 10,
     "metadata": {},
     "output_type": "execute_result"
    }
   ],
   "source": [
    "def interleave(*lists):\n",
    "    L1 = [] # list of inputed lists\n",
    "    L2 = []\n",
    "\n",
    "    for i in lists:\n",
    "        L1.append(i)\n",
    "\n",
    "    zipped = list(zip(*L1))\n",
    "    print(zipped)\n",
    "\n",
    "    for i in zipped:\n",
    "        for j in i:\n",
    "            L2.append(j)\n",
    "    return L2\n",
    "            \n",
    "    \n",
    "l1=[1,2,3]\n",
    "l2=[10,20,30]\n",
    "l3=['a','b','c']\n",
    "\n",
    "interleave(l1,l2,l3)"
   ]
  }
 ],
 "metadata": {
  "kernelspec": {
   "display_name": "Python 3",
   "language": "python",
   "name": "python3"
  },
  "language_info": {
   "codemirror_mode": {
    "name": "ipython",
    "version": 3
   },
   "file_extension": ".py",
   "mimetype": "text/x-python",
   "name": "python",
   "nbconvert_exporter": "python",
   "pygments_lexer": "ipython3",
   "version": "3.8.5"
  }
 },
 "nbformat": 4,
 "nbformat_minor": 4
}
