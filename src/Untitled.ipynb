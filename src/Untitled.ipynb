{
 "cells": [
  {
   "cell_type": "code",
   "execution_count": 1,
   "metadata": {},
   "outputs": [
    {
     "name": "stdout",
     "output_type": "stream",
     "text": [
      "hello world\n"
     ]
    }
   ],
   "source": [
    "print('hello world')"
   ]
  },
  {
   "cell_type": "code",
   "execution_count": 2,
   "metadata": {},
   "outputs": [
    {
     "name": "stdout",
     "output_type": "stream",
     "text": [
      "hello world but in spaces\n"
     ]
    }
   ],
   "source": [
    "print('hello', 'world', 'but in spaces')"
   ]
  },
  {
   "cell_type": "code",
   "execution_count": 3,
   "metadata": {},
   "outputs": [
    {
     "name": "stdout",
     "output_type": "stream",
     "text": [
      "1 plus 2 equals 3\n"
     ]
    }
   ],
   "source": [
    "print(1, 'plus', 2, 'equals', 1+2)"
   ]
  },
  {
   "cell_type": "code",
   "execution_count": 4,
   "metadata": {},
   "outputs": [
    {
     "name": "stdout",
     "output_type": "stream",
     "text": [
      "give me your name: abe\n",
      "hello  abe\n"
     ]
    }
   ],
   "source": [
    "name=input('give me your name: ')\n",
    "print('hello ', name)"
   ]
  },
  {
   "cell_type": "code",
   "execution_count": 9,
   "metadata": {},
   "outputs": [
    {
     "name": "stdout",
     "output_type": "stream",
     "text": [
      "hello\n",
      "0\n",
      "hello\n",
      "1\n",
      "hello\n",
      "2\n",
      "hello\n",
      "3\n",
      "bye\n"
     ]
    }
   ],
   "source": [
    "for i in range(4):\n",
    "        print('hello')\n",
    "        print(i)\n",
    "print('bye')"
   ]
  },
  {
   "cell_type": "code",
   "execution_count": 10,
   "metadata": {},
   "outputs": [
    {
     "name": "stdout",
     "output_type": "stream",
     "text": [
      "4 multiplied by  0 is  0\n",
      "4 multiplied by  1 is  4\n",
      "4 multiplied by  2 is  8\n",
      "4 multiplied by  3 is  12\n",
      "4 multiplied by  4 is  16\n",
      "4 multiplied by  5 is  20\n",
      "4 multiplied by  6 is  24\n",
      "4 multiplied by  7 is  28\n",
      "4 multiplied by  8 is  32\n",
      "4 multiplied by  9 is  36\n",
      "4 multiplied by  10 is  40\n"
     ]
    }
   ],
   "source": [
    "for i in range(11):\n",
    "    print('4 multiplied by ', i, 'is ', 4*i)"
   ]
  },
  {
   "cell_type": "code",
   "execution_count": 11,
   "metadata": {},
   "outputs": [
    {
     "name": "stdout",
     "output_type": "stream",
     "text": [
      "1.6 1.70 1.800\n"
     ]
    }
   ],
   "source": [
    "print('%.1f %.2f %.3f' % (1.6, 1.7, 1.8))"
   ]
  }
 ],
 "metadata": {
  "kernelspec": {
   "display_name": "Python 3",
   "language": "python",
   "name": "python3"
  },
  "language_info": {
   "codemirror_mode": {
    "name": "ipython",
    "version": 3
   },
   "file_extension": ".py",
   "mimetype": "text/x-python",
   "name": "python",
   "nbconvert_exporter": "python",
   "pygments_lexer": "ipython3",
   "version": "3.8.5"
  }
 },
 "nbformat": 4,
 "nbformat_minor": 4
}
