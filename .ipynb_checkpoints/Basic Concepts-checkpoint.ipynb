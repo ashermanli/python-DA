{
 "cells": [
  {
   "cell_type": "code",
   "execution_count": 3,
   "metadata": {},
   "outputs": [
    {
     "name": "stdout",
     "output_type": "stream",
     "text": [
      "hello world how are you\n"
     ]
    }
   ],
   "source": [
    "print('hello world', 'how','are you')"
   ]
  },
  {
   "cell_type": "code",
   "execution_count": 5,
   "metadata": {},
   "outputs": [
    {
     "name": "stdout",
     "output_type": "stream",
     "text": [
      "give me your nameAbraham\n",
      "hello Abraham\n"
     ]
    }
   ],
   "source": [
    "name = input('give me your name')\n",
    "print('hello', name)"
   ]
  },
  {
   "cell_type": "code",
   "execution_count": null,
   "metadata": {},
   "outputs": [],
   "source": []
  },
  {
   "cell_type": "code",
   "execution_count": 7,
   "metadata": {},
   "outputs": [
    {
     "name": "stdout",
     "output_type": "stream",
     "text": [
      "the number is 0\n",
      "the number is 1\n",
      "the number is 2\n",
      "the number is 3\n",
      "the number is 4\n",
      "the number is 5\n",
      "the number is 6\n",
      "the number is 7\n",
      "the number is 8\n",
      "the number is 9\n",
      "bye\n"
     ]
    }
   ],
   "source": [
    "for i in range(10):\n",
    "    print('the number is', i)\n",
    "print('bye')"
   ]
  }
 ],
 "metadata": {
  "kernelspec": {
   "display_name": "Python 3",
   "language": "python",
   "name": "python3"
  },
  "language_info": {
   "codemirror_mode": {
    "name": "ipython",
    "version": 3
   },
   "file_extension": ".py",
   "mimetype": "text/x-python",
   "name": "python",
   "nbconvert_exporter": "python",
   "pygments_lexer": "ipython3",
   "version": "3.8.5"
  }
 },
 "nbformat": 4,
 "nbformat_minor": 4
}
